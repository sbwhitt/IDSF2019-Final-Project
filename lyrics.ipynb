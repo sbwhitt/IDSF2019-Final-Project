{
 "cells": [
  {
   "cell_type": "code",
   "execution_count": 46,
   "metadata": {
    "collapsed": false
   },
   "outputs": [
    {
     "data": {
      "text/html": [
       "<div>\n",
       "<table border=\"1\" class=\"dataframe\">\n",
       "  <thead>\n",
       "    <tr style=\"text-align: right;\">\n",
       "      <th></th>\n",
       "      <th>index</th>\n",
       "      <th>song</th>\n",
       "      <th>year</th>\n",
       "      <th>artist</th>\n",
       "      <th>genre</th>\n",
       "      <th>lyrics</th>\n",
       "    </tr>\n",
       "  </thead>\n",
       "  <tbody>\n",
       "    <tr>\n",
       "      <th>0</th>\n",
       "      <td>0</td>\n",
       "      <td>ego-remix</td>\n",
       "      <td>2009</td>\n",
       "      <td>beyonce-knowles</td>\n",
       "      <td>Pop</td>\n",
       "      <td>Oh baby, how you doing?\\nYou know I'm gonna cu...</td>\n",
       "    </tr>\n",
       "    <tr>\n",
       "      <th>1</th>\n",
       "      <td>1</td>\n",
       "      <td>then-tell-me</td>\n",
       "      <td>2009</td>\n",
       "      <td>beyonce-knowles</td>\n",
       "      <td>Pop</td>\n",
       "      <td>playin' everything so easy,\\nit's like you see...</td>\n",
       "    </tr>\n",
       "    <tr>\n",
       "      <th>2</th>\n",
       "      <td>2</td>\n",
       "      <td>honesty</td>\n",
       "      <td>2009</td>\n",
       "      <td>beyonce-knowles</td>\n",
       "      <td>Pop</td>\n",
       "      <td>If you search\\nFor tenderness\\nIt isn't hard t...</td>\n",
       "    </tr>\n",
       "    <tr>\n",
       "      <th>3</th>\n",
       "      <td>3</td>\n",
       "      <td>you-are-my-rock</td>\n",
       "      <td>2009</td>\n",
       "      <td>beyonce-knowles</td>\n",
       "      <td>Pop</td>\n",
       "      <td>Oh oh oh I, oh oh oh I\\n[Verse 1:]\\nIf I wrote...</td>\n",
       "    </tr>\n",
       "    <tr>\n",
       "      <th>4</th>\n",
       "      <td>4</td>\n",
       "      <td>black-culture</td>\n",
       "      <td>2009</td>\n",
       "      <td>beyonce-knowles</td>\n",
       "      <td>Pop</td>\n",
       "      <td>Party the people, the people the party it's po...</td>\n",
       "    </tr>\n",
       "  </tbody>\n",
       "</table>\n",
       "</div>"
      ],
      "text/plain": [
       "   index             song  year           artist genre  \\\n",
       "0      0        ego-remix  2009  beyonce-knowles   Pop   \n",
       "1      1     then-tell-me  2009  beyonce-knowles   Pop   \n",
       "2      2          honesty  2009  beyonce-knowles   Pop   \n",
       "3      3  you-are-my-rock  2009  beyonce-knowles   Pop   \n",
       "4      4    black-culture  2009  beyonce-knowles   Pop   \n",
       "\n",
       "                                              lyrics  \n",
       "0  Oh baby, how you doing?\\nYou know I'm gonna cu...  \n",
       "1  playin' everything so easy,\\nit's like you see...  \n",
       "2  If you search\\nFor tenderness\\nIt isn't hard t...  \n",
       "3  Oh oh oh I, oh oh oh I\\n[Verse 1:]\\nIf I wrote...  \n",
       "4  Party the people, the people the party it's po...  "
      ]
     },
     "execution_count": 46,
     "metadata": {},
     "output_type": "execute_result"
    }
   ],
   "source": [
    "import pandas as pd\n",
    "import numpy as np\n",
    "\n",
    "df = pd.read_csv('lyrics.csv')\n",
    "df.head()"
   ]
  },
  {
   "cell_type": "code",
   "execution_count": 47,
   "metadata": {
    "collapsed": false
   },
   "outputs": [],
   "source": [
    "df['lyrics'] = df['lyrics'].apply(lambda l: str(l)\n",
    "                                  .replace('\\n', ' ')\n",
    "                                  .replace('.', ' ')\n",
    "                                  .replace(',', ' ')\n",
    "                                  .replace('?', ' ')\n",
    "                                  .replace('!', ' ')\n",
    "                                  .lower())\n",
    "df['word_count'] = df['lyrics'].str.split(' ').str.len()\n",
    "df = df[df['word_count'] != 1]\n",
    "df = df[df['genre'] != 'Not Available']"
   ]
  },
  {
   "cell_type": "code",
   "execution_count": 59,
   "metadata": {
    "collapsed": false
   },
   "outputs": [
    {
     "name": "stdout",
     "output_type": "stream",
     "text": [
      "[nltk_data] Downloading package stopwords to /home/swhitt/nltk_data...\n",
      "[nltk_data]   Package stopwords is already up-to-date!\n"
     ]
    }
   ],
   "source": [
    "import sklearn\n",
    "from sklearn.feature_extraction.text import TfidfVectorizer\n",
    "import nltk\n",
    "nltk.download('stopwords')\n",
    "from nltk.corpus import stopwords\n",
    "\n",
    "tfidfconverter = TfidfVectorizer(max_features=1500, min_df=5, max_df=0.5, stop_words=stopwords.words('english'))\n",
    "lyrics = df['lyrics']\n",
    "X = tfidfconverter.fit_transform(lyrics).toarray()"
   ]
  },
  {
   "cell_type": "code",
   "execution_count": 60,
   "metadata": {
    "collapsed": false
   },
   "outputs": [
    {
     "name": "stdout",
     "output_type": "stream",
     "text": [
      "[[  40    1    0    9    0   10   22    1   91    0  583]\n",
      " [   4   11    0   19    0    1   14    1   44    0  283]\n",
      " [   1    0    2    2    0    0    3    0   18    0   84]\n",
      " [   6    2    0  854    0    1   15    1   90    0  265]\n",
      " [   1    0    0    2    0    2    6    0   12    0  130]\n",
      " [  12    0    0    4    0   29   10    7   47    0  243]\n",
      " [   4    4    1   37    0    5  382    0   44    0  665]\n",
      " [   3    1    0   21    0    5    6   11   44    0  155]\n",
      " [  31    4    1   96    0   12   40   10  494    0 1368]\n",
      " [   1    0    0    7    0    1    7    0   30    2  131]\n",
      " [  69   11    4   99    1   17  245    8  488    0 4424]]\n",
      "seconds elapsed: 2.8990159034729004\n",
      "acc_score: 0.5219679251587036\n"
     ]
    }
   ],
   "source": [
    "import time\n",
    "startTime = time.time()\n",
    "\n",
    "y = df['genre']\n",
    "from sklearn.model_selection import train_test_split\n",
    "X_train, X_test, y_train, y_test = train_test_split(X, y, train_size=0.05, test_size=0.05, random_state=1)\n",
    "\n",
    "from sklearn.ensemble import RandomForestClassifier\n",
    "classifier = RandomForestClassifier(n_estimators=10, random_state=0)\n",
    "classifier.fit(X_train, y_train)\n",
    "acc_score = classifier.score(X_test, y_test)\n",
    "\n",
    "preds = classifier.predict(X_test)\n",
    "print(sklearn.metrics.confusion_matrix(y_test, preds))\n",
    "\n",
    "endTime = time.time()\n",
    "elapsedTime = endTime - startTime\n",
    "print(\"seconds elapsed: \" + str(elapsedTime))\n",
    "print(\"acc_score: \" + str(acc_score))"
   ]
  },
  {
   "cell_type": "code",
   "execution_count": 61,
   "metadata": {
    "collapsed": false
   },
   "outputs": [
    {
     "name": "stdout",
     "output_type": "stream",
     "text": [
      "[[   0    0    0    2    0    0    6    2    5    0  742]\n",
      " [   0    0    0   19    0    0    4    0   12    0  342]\n",
      " [   0    0    0    3    0    0    2    0   14    0   91]\n",
      " [   0    0    0  772    0    0    0    5   51    0  406]\n",
      " [   0    0    0    1    0    0    0    1    5    0  146]\n",
      " [   0    0    0    4    0    0    0    2   17    0  329]\n",
      " [   0    0    0   39    0    0  345    0   29    0  729]\n",
      " [   0    0    0   13    0    0    1    3   57    0  172]\n",
      " [   0    0    0   74    0    0    7    4  242    0 1729]\n",
      " [   0    0    0    5    0    0    2    0    1    0  171]\n",
      " [   2    0    0  103    0    0   72    5  215    0 4969]]\n",
      "seconds elapsed: 0.7105729579925537\n",
      "acc_score: 0.5288172402271968\n"
     ]
    }
   ],
   "source": [
    "import time\n",
    "startTime = time.time()\n",
    "\n",
    "y = df['genre']\n",
    "from sklearn.model_selection import train_test_split\n",
    "X_train, X_test, y_train, y_test = train_test_split(X, y, train_size=0.05, test_size=0.05, random_state=1)\n",
    "\n",
    "from sklearn.naive_bayes import MultinomialNB\n",
    "classifier = MultinomialNB()\n",
    "classifier.fit(X_train, y_train)\n",
    "acc_score = classifier.score(X_test, y_test)\n",
    "\n",
    "preds = classifier.predict(X_test)\n",
    "print(sklearn.metrics.confusion_matrix(y_test, preds))\n",
    "\n",
    "endTime = time.time()\n",
    "elapsedTime = endTime - startTime\n",
    "print(\"seconds elapsed: \" + str(elapsedTime))\n",
    "print(\"acc_score: \" + str(acc_score))"
   ]
  },
  {
   "cell_type": "code",
   "execution_count": null,
   "metadata": {
    "collapsed": true
   },
   "outputs": [],
   "source": []
  }
 ],
 "metadata": {
  "anaconda-cloud": {},
  "kernelspec": {
   "display_name": "Python [default]",
   "language": "python",
   "name": "python3"
  },
  "language_info": {
   "codemirror_mode": {
    "name": "ipython",
    "version": 3
   },
   "file_extension": ".py",
   "mimetype": "text/x-python",
   "name": "python",
   "nbconvert_exporter": "python",
   "pygments_lexer": "ipython3",
   "version": "3.5.2"
  }
 },
 "nbformat": 4,
 "nbformat_minor": 1
}
